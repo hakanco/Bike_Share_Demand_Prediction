{
 "cells": [
  {
   "cell_type": "code",
   "execution_count": 1,
   "metadata": {},
   "outputs": [],
   "source": [
    "import warnings\n",
    "warnings.filterwarnings(\"ignore\")\n",
    "\n",
    "import os\n",
    "import re\n",
    "import csv\n",
    "import pickle\n",
    "import requests\n",
    "\n",
    "from sklearn.preprocessing import StandardScaler, MinMaxScaler, RobustScaler\n",
    "\n",
    "import pandas as pd\n",
    "import numpy as np\n",
    "\n",
    "from sklearn.metrics import mean_squared_error\n",
    "from sklearn.model_selection import train_test_split, GridSearchCV\n",
    "from sklearn.linear_model import LinearRegression, LassoCV, RidgeCV, ElasticNetCV\n",
    "from sklearn.neighbors import KNeighborsRegressor\n",
    "from sklearn.ensemble import RandomForestRegressor\n",
    "from xgboost import XGBRegressor "
   ]
  },
  {
   "cell_type": "code",
   "execution_count": 2,
   "metadata": {},
   "outputs": [],
   "source": [
    "store_sharing_filename = 'store_sharing.csv'\n",
    "\n",
    "model_filename = \"model\"\n",
    "model_extension = \"pkl\""
   ]
  },
  {
   "cell_type": "markdown",
   "metadata": {},
   "source": [
    "## Loading and Preparing the Data"
   ]
  },
  {
   "cell_type": "markdown",
   "metadata": {},
   "source": [
    "- Let's load the data from the cvs file:"
   ]
  },
  {
   "cell_type": "code",
   "execution_count": 3,
   "metadata": {},
   "outputs": [
    {
     "name": "stdout",
     "output_type": "stream",
     "text": [
      "Dataset read from file: store_sharing.csv\n"
     ]
    }
   ],
   "source": [
    "df = pd.read_csv(store_sharing_filename)\n",
    "print(\"Dataset read from file: {}\".format(store_sharing_filename))"
   ]
  },
  {
   "cell_type": "code",
   "execution_count": 4,
   "metadata": {},
   "outputs": [
    {
     "data": {
      "text/html": [
       "<div>\n",
       "<style scoped>\n",
       "    .dataframe tbody tr th:only-of-type {\n",
       "        vertical-align: middle;\n",
       "    }\n",
       "\n",
       "    .dataframe tbody tr th {\n",
       "        vertical-align: top;\n",
       "    }\n",
       "\n",
       "    .dataframe thead th {\n",
       "        text-align: right;\n",
       "    }\n",
       "</style>\n",
       "<table border=\"1\" class=\"dataframe\">\n",
       "  <thead>\n",
       "    <tr style=\"text-align: right;\">\n",
       "      <th></th>\n",
       "      <th>timestamp</th>\n",
       "      <th>cnt</th>\n",
       "      <th>t1</th>\n",
       "      <th>t2</th>\n",
       "      <th>hum</th>\n",
       "      <th>wind_speed</th>\n",
       "      <th>weather_code</th>\n",
       "      <th>is_holiday</th>\n",
       "      <th>is_weekend</th>\n",
       "      <th>season</th>\n",
       "    </tr>\n",
       "  </thead>\n",
       "  <tbody>\n",
       "    <tr>\n",
       "      <th>0</th>\n",
       "      <td>2015-01-04 00:00:00</td>\n",
       "      <td>182</td>\n",
       "      <td>3.0</td>\n",
       "      <td>2.0</td>\n",
       "      <td>93.0</td>\n",
       "      <td>6.0</td>\n",
       "      <td>3.0</td>\n",
       "      <td>0.0</td>\n",
       "      <td>1.0</td>\n",
       "      <td>3.0</td>\n",
       "    </tr>\n",
       "    <tr>\n",
       "      <th>1</th>\n",
       "      <td>2015-01-04 01:00:00</td>\n",
       "      <td>138</td>\n",
       "      <td>3.0</td>\n",
       "      <td>2.5</td>\n",
       "      <td>93.0</td>\n",
       "      <td>5.0</td>\n",
       "      <td>1.0</td>\n",
       "      <td>0.0</td>\n",
       "      <td>1.0</td>\n",
       "      <td>3.0</td>\n",
       "    </tr>\n",
       "    <tr>\n",
       "      <th>2</th>\n",
       "      <td>2015-01-04 02:00:00</td>\n",
       "      <td>134</td>\n",
       "      <td>2.5</td>\n",
       "      <td>2.5</td>\n",
       "      <td>96.5</td>\n",
       "      <td>0.0</td>\n",
       "      <td>1.0</td>\n",
       "      <td>0.0</td>\n",
       "      <td>1.0</td>\n",
       "      <td>3.0</td>\n",
       "    </tr>\n",
       "  </tbody>\n",
       "</table>\n",
       "</div>"
      ],
      "text/plain": [
       "             timestamp  cnt   t1   t2   hum  wind_speed  weather_code  \\\n",
       "0  2015-01-04 00:00:00  182  3.0  2.0  93.0         6.0           3.0   \n",
       "1  2015-01-04 01:00:00  138  3.0  2.5  93.0         5.0           1.0   \n",
       "2  2015-01-04 02:00:00  134  2.5  2.5  96.5         0.0           1.0   \n",
       "\n",
       "   is_holiday  is_weekend  season  \n",
       "0         0.0         1.0     3.0  \n",
       "1         0.0         1.0     3.0  \n",
       "2         0.0         1.0     3.0  "
      ]
     },
     "execution_count": 4,
     "metadata": {},
     "output_type": "execute_result"
    }
   ],
   "source": [
    "df.head(3)"
   ]
  },
  {
   "cell_type": "code",
   "execution_count": 5,
   "metadata": {},
   "outputs": [],
   "source": [
    "df['timestamp'] = pd.to_datetime(df['timestamp'], format='%Y-%m-%d')"
   ]
  },
  {
   "cell_type": "code",
   "execution_count": 6,
   "metadata": {},
   "outputs": [],
   "source": [
    "df['year'] = pd.DatetimeIndex(df['timestamp']).year\n",
    "df['month'] = pd.DatetimeIndex(df['timestamp']).month\n",
    "df['day'] = pd.DatetimeIndex(df['timestamp']).day\n",
    "df['hour'] = pd.DatetimeIndex(df['timestamp']).hour"
   ]
  },
  {
   "cell_type": "code",
   "execution_count": 7,
   "metadata": {},
   "outputs": [],
   "source": [
    "df = df.drop(columns=['timestamp'], axis=1)"
   ]
  },
  {
   "cell_type": "code",
   "execution_count": 8,
   "metadata": {},
   "outputs": [
    {
     "data": {
      "text/html": [
       "<div>\n",
       "<style scoped>\n",
       "    .dataframe tbody tr th:only-of-type {\n",
       "        vertical-align: middle;\n",
       "    }\n",
       "\n",
       "    .dataframe tbody tr th {\n",
       "        vertical-align: top;\n",
       "    }\n",
       "\n",
       "    .dataframe thead th {\n",
       "        text-align: right;\n",
       "    }\n",
       "</style>\n",
       "<table border=\"1\" class=\"dataframe\">\n",
       "  <thead>\n",
       "    <tr style=\"text-align: right;\">\n",
       "      <th></th>\n",
       "      <th>cnt</th>\n",
       "      <th>t1</th>\n",
       "      <th>t2</th>\n",
       "      <th>hum</th>\n",
       "      <th>wind_speed</th>\n",
       "      <th>weather_code</th>\n",
       "      <th>is_holiday</th>\n",
       "      <th>is_weekend</th>\n",
       "      <th>season</th>\n",
       "      <th>year</th>\n",
       "      <th>month</th>\n",
       "      <th>day</th>\n",
       "      <th>hour</th>\n",
       "    </tr>\n",
       "  </thead>\n",
       "  <tbody>\n",
       "    <tr>\n",
       "      <th>0</th>\n",
       "      <td>182</td>\n",
       "      <td>3.0</td>\n",
       "      <td>2.0</td>\n",
       "      <td>93.0</td>\n",
       "      <td>6.0</td>\n",
       "      <td>3.0</td>\n",
       "      <td>0.0</td>\n",
       "      <td>1.0</td>\n",
       "      <td>3.0</td>\n",
       "      <td>2015</td>\n",
       "      <td>1</td>\n",
       "      <td>4</td>\n",
       "      <td>0</td>\n",
       "    </tr>\n",
       "    <tr>\n",
       "      <th>1</th>\n",
       "      <td>138</td>\n",
       "      <td>3.0</td>\n",
       "      <td>2.5</td>\n",
       "      <td>93.0</td>\n",
       "      <td>5.0</td>\n",
       "      <td>1.0</td>\n",
       "      <td>0.0</td>\n",
       "      <td>1.0</td>\n",
       "      <td>3.0</td>\n",
       "      <td>2015</td>\n",
       "      <td>1</td>\n",
       "      <td>4</td>\n",
       "      <td>1</td>\n",
       "    </tr>\n",
       "    <tr>\n",
       "      <th>2</th>\n",
       "      <td>134</td>\n",
       "      <td>2.5</td>\n",
       "      <td>2.5</td>\n",
       "      <td>96.5</td>\n",
       "      <td>0.0</td>\n",
       "      <td>1.0</td>\n",
       "      <td>0.0</td>\n",
       "      <td>1.0</td>\n",
       "      <td>3.0</td>\n",
       "      <td>2015</td>\n",
       "      <td>1</td>\n",
       "      <td>4</td>\n",
       "      <td>2</td>\n",
       "    </tr>\n",
       "  </tbody>\n",
       "</table>\n",
       "</div>"
      ],
      "text/plain": [
       "   cnt   t1   t2   hum  wind_speed  weather_code  is_holiday  is_weekend  \\\n",
       "0  182  3.0  2.0  93.0         6.0           3.0         0.0         1.0   \n",
       "1  138  3.0  2.5  93.0         5.0           1.0         0.0         1.0   \n",
       "2  134  2.5  2.5  96.5         0.0           1.0         0.0         1.0   \n",
       "\n",
       "   season  year  month  day  hour  \n",
       "0     3.0  2015      1    4     0  \n",
       "1     3.0  2015      1    4     1  \n",
       "2     3.0  2015      1    4     2  "
      ]
     },
     "execution_count": 8,
     "metadata": {},
     "output_type": "execute_result"
    }
   ],
   "source": [
    "df.head(3)"
   ]
  },
  {
   "cell_type": "code",
   "execution_count": 9,
   "metadata": {},
   "outputs": [
    {
     "data": {
      "text/html": [
       "<div>\n",
       "<style scoped>\n",
       "    .dataframe tbody tr th:only-of-type {\n",
       "        vertical-align: middle;\n",
       "    }\n",
       "\n",
       "    .dataframe tbody tr th {\n",
       "        vertical-align: top;\n",
       "    }\n",
       "\n",
       "    .dataframe thead th {\n",
       "        text-align: right;\n",
       "    }\n",
       "</style>\n",
       "<table border=\"1\" class=\"dataframe\">\n",
       "  <thead>\n",
       "    <tr style=\"text-align: right;\">\n",
       "      <th></th>\n",
       "      <th>cnt</th>\n",
       "      <th>t1</th>\n",
       "      <th>t2</th>\n",
       "      <th>hum</th>\n",
       "      <th>wind_speed</th>\n",
       "      <th>weather_code</th>\n",
       "      <th>is_holiday</th>\n",
       "      <th>is_weekend</th>\n",
       "      <th>season</th>\n",
       "      <th>year</th>\n",
       "      <th>month</th>\n",
       "      <th>day</th>\n",
       "      <th>hour</th>\n",
       "    </tr>\n",
       "  </thead>\n",
       "  <tbody>\n",
       "    <tr>\n",
       "      <th>0</th>\n",
       "      <td>182</td>\n",
       "      <td>-1.699331</td>\n",
       "      <td>-1.439290</td>\n",
       "      <td>1.444517</td>\n",
       "      <td>-1.255717</td>\n",
       "      <td>3.0</td>\n",
       "      <td>0.0</td>\n",
       "      <td>1.0</td>\n",
       "      <td>3.0</td>\n",
       "      <td>2015</td>\n",
       "      <td>1</td>\n",
       "      <td>4</td>\n",
       "      <td>0</td>\n",
       "    </tr>\n",
       "    <tr>\n",
       "      <th>1</th>\n",
       "      <td>138</td>\n",
       "      <td>-1.699331</td>\n",
       "      <td>-1.363703</td>\n",
       "      <td>1.444517</td>\n",
       "      <td>-1.382390</td>\n",
       "      <td>1.0</td>\n",
       "      <td>0.0</td>\n",
       "      <td>1.0</td>\n",
       "      <td>3.0</td>\n",
       "      <td>2015</td>\n",
       "      <td>1</td>\n",
       "      <td>4</td>\n",
       "      <td>1</td>\n",
       "    </tr>\n",
       "    <tr>\n",
       "      <th>2</th>\n",
       "      <td>134</td>\n",
       "      <td>-1.789071</td>\n",
       "      <td>-1.363703</td>\n",
       "      <td>1.689054</td>\n",
       "      <td>-2.015755</td>\n",
       "      <td>1.0</td>\n",
       "      <td>0.0</td>\n",
       "      <td>1.0</td>\n",
       "      <td>3.0</td>\n",
       "      <td>2015</td>\n",
       "      <td>1</td>\n",
       "      <td>4</td>\n",
       "      <td>2</td>\n",
       "    </tr>\n",
       "    <tr>\n",
       "      <th>3</th>\n",
       "      <td>72</td>\n",
       "      <td>-1.878811</td>\n",
       "      <td>-1.439290</td>\n",
       "      <td>1.933590</td>\n",
       "      <td>-2.015755</td>\n",
       "      <td>1.0</td>\n",
       "      <td>0.0</td>\n",
       "      <td>1.0</td>\n",
       "      <td>3.0</td>\n",
       "      <td>2015</td>\n",
       "      <td>1</td>\n",
       "      <td>4</td>\n",
       "      <td>3</td>\n",
       "    </tr>\n",
       "    <tr>\n",
       "      <th>4</th>\n",
       "      <td>47</td>\n",
       "      <td>-1.878811</td>\n",
       "      <td>-1.741635</td>\n",
       "      <td>1.444517</td>\n",
       "      <td>-1.192381</td>\n",
       "      <td>1.0</td>\n",
       "      <td>0.0</td>\n",
       "      <td>1.0</td>\n",
       "      <td>3.0</td>\n",
       "      <td>2015</td>\n",
       "      <td>1</td>\n",
       "      <td>4</td>\n",
       "      <td>4</td>\n",
       "    </tr>\n",
       "  </tbody>\n",
       "</table>\n",
       "</div>"
      ],
      "text/plain": [
       "   cnt        t1        t2       hum  wind_speed  weather_code  is_holiday  \\\n",
       "0  182 -1.699331 -1.439290  1.444517   -1.255717           3.0         0.0   \n",
       "1  138 -1.699331 -1.363703  1.444517   -1.382390           1.0         0.0   \n",
       "2  134 -1.789071 -1.363703  1.689054   -2.015755           1.0         0.0   \n",
       "3   72 -1.878811 -1.439290  1.933590   -2.015755           1.0         0.0   \n",
       "4   47 -1.878811 -1.741635  1.444517   -1.192381           1.0         0.0   \n",
       "\n",
       "   is_weekend  season  year  month  day  hour  \n",
       "0         1.0     3.0  2015      1    4     0  \n",
       "1         1.0     3.0  2015      1    4     1  \n",
       "2         1.0     3.0  2015      1    4     2  \n",
       "3         1.0     3.0  2015      1    4     3  \n",
       "4         1.0     3.0  2015      1    4     4  "
      ]
     },
     "execution_count": 9,
     "metadata": {},
     "output_type": "execute_result"
    }
   ],
   "source": [
    "columns = ['t1', 't2', 'hum', 'wind_speed']\n",
    "scaler = StandardScaler()\n",
    "df.loc[:, columns] = scaler.fit_transform(df[columns])\n",
    "df.head()"
   ]
  },
  {
   "cell_type": "markdown",
   "metadata": {},
   "source": [
    "#### Creating a function for onehot encoder"
   ]
  },
  {
   "cell_type": "code",
   "execution_count": 10,
   "metadata": {},
   "outputs": [],
   "source": [
    "def OneHotEncoder(df, column, prefix):\n",
    "    df_column = pd.DataFrame(df, columns=[column])\n",
    "    ohe_df = pd.get_dummies(df_column, columns=[column], prefix=[prefix], prefix_sep='-')\n",
    "    df = df.join(ohe_df)\n",
    "    return df.drop(columns=[column], axis=1)"
   ]
  },
  {
   "cell_type": "code",
   "execution_count": 11,
   "metadata": {},
   "outputs": [
    {
     "data": {
      "text/html": [
       "<div>\n",
       "<style scoped>\n",
       "    .dataframe tbody tr th:only-of-type {\n",
       "        vertical-align: middle;\n",
       "    }\n",
       "\n",
       "    .dataframe tbody tr th {\n",
       "        vertical-align: top;\n",
       "    }\n",
       "\n",
       "    .dataframe thead th {\n",
       "        text-align: right;\n",
       "    }\n",
       "</style>\n",
       "<table border=\"1\" class=\"dataframe\">\n",
       "  <thead>\n",
       "    <tr style=\"text-align: right;\">\n",
       "      <th></th>\n",
       "      <th>cnt</th>\n",
       "      <th>t1</th>\n",
       "      <th>t2</th>\n",
       "      <th>hum</th>\n",
       "      <th>wind_speed</th>\n",
       "      <th>is_holiday</th>\n",
       "      <th>is_weekend</th>\n",
       "      <th>year</th>\n",
       "      <th>month</th>\n",
       "      <th>day</th>\n",
       "      <th>...</th>\n",
       "      <th>W-2.0</th>\n",
       "      <th>W-3.0</th>\n",
       "      <th>W-4.0</th>\n",
       "      <th>W-7.0</th>\n",
       "      <th>W-10.0</th>\n",
       "      <th>W-26.0</th>\n",
       "      <th>Season-0.0</th>\n",
       "      <th>Season-1.0</th>\n",
       "      <th>Season-2.0</th>\n",
       "      <th>Season-3.0</th>\n",
       "    </tr>\n",
       "  </thead>\n",
       "  <tbody>\n",
       "    <tr>\n",
       "      <th>0</th>\n",
       "      <td>182</td>\n",
       "      <td>-1.699331</td>\n",
       "      <td>-1.439290</td>\n",
       "      <td>1.444517</td>\n",
       "      <td>-1.255717</td>\n",
       "      <td>0.0</td>\n",
       "      <td>1.0</td>\n",
       "      <td>2015</td>\n",
       "      <td>1</td>\n",
       "      <td>4</td>\n",
       "      <td>...</td>\n",
       "      <td>0</td>\n",
       "      <td>1</td>\n",
       "      <td>0</td>\n",
       "      <td>0</td>\n",
       "      <td>0</td>\n",
       "      <td>0</td>\n",
       "      <td>0</td>\n",
       "      <td>0</td>\n",
       "      <td>0</td>\n",
       "      <td>1</td>\n",
       "    </tr>\n",
       "    <tr>\n",
       "      <th>1</th>\n",
       "      <td>138</td>\n",
       "      <td>-1.699331</td>\n",
       "      <td>-1.363703</td>\n",
       "      <td>1.444517</td>\n",
       "      <td>-1.382390</td>\n",
       "      <td>0.0</td>\n",
       "      <td>1.0</td>\n",
       "      <td>2015</td>\n",
       "      <td>1</td>\n",
       "      <td>4</td>\n",
       "      <td>...</td>\n",
       "      <td>0</td>\n",
       "      <td>0</td>\n",
       "      <td>0</td>\n",
       "      <td>0</td>\n",
       "      <td>0</td>\n",
       "      <td>0</td>\n",
       "      <td>0</td>\n",
       "      <td>0</td>\n",
       "      <td>0</td>\n",
       "      <td>1</td>\n",
       "    </tr>\n",
       "    <tr>\n",
       "      <th>2</th>\n",
       "      <td>134</td>\n",
       "      <td>-1.789071</td>\n",
       "      <td>-1.363703</td>\n",
       "      <td>1.689054</td>\n",
       "      <td>-2.015755</td>\n",
       "      <td>0.0</td>\n",
       "      <td>1.0</td>\n",
       "      <td>2015</td>\n",
       "      <td>1</td>\n",
       "      <td>4</td>\n",
       "      <td>...</td>\n",
       "      <td>0</td>\n",
       "      <td>0</td>\n",
       "      <td>0</td>\n",
       "      <td>0</td>\n",
       "      <td>0</td>\n",
       "      <td>0</td>\n",
       "      <td>0</td>\n",
       "      <td>0</td>\n",
       "      <td>0</td>\n",
       "      <td>1</td>\n",
       "    </tr>\n",
       "  </tbody>\n",
       "</table>\n",
       "<p>3 rows × 22 columns</p>\n",
       "</div>"
      ],
      "text/plain": [
       "   cnt        t1        t2       hum  wind_speed  is_holiday  is_weekend  \\\n",
       "0  182 -1.699331 -1.439290  1.444517   -1.255717         0.0         1.0   \n",
       "1  138 -1.699331 -1.363703  1.444517   -1.382390         0.0         1.0   \n",
       "2  134 -1.789071 -1.363703  1.689054   -2.015755         0.0         1.0   \n",
       "\n",
       "   year  month  day  ...  W-2.0  W-3.0  W-4.0  W-7.0  W-10.0  W-26.0  \\\n",
       "0  2015      1    4  ...      0      1      0      0       0       0   \n",
       "1  2015      1    4  ...      0      0      0      0       0       0   \n",
       "2  2015      1    4  ...      0      0      0      0       0       0   \n",
       "\n",
       "   Season-0.0  Season-1.0  Season-2.0  Season-3.0  \n",
       "0           0           0           0           1  \n",
       "1           0           0           0           1  \n",
       "2           0           0           0           1  \n",
       "\n",
       "[3 rows x 22 columns]"
      ]
     },
     "execution_count": 11,
     "metadata": {},
     "output_type": "execute_result"
    }
   ],
   "source": [
    "df = OneHotEncoder(df, 'weather_code', 'W')\n",
    "df = OneHotEncoder(df, 'season', 'Season')\n",
    "df.head(3)"
   ]
  },
  {
   "cell_type": "code",
   "execution_count": 12,
   "metadata": {},
   "outputs": [],
   "source": [
    "df.insert(22, 'count', df['cnt'])\n",
    "df = df.drop(columns=['cnt'], axis=1)"
   ]
  },
  {
   "cell_type": "code",
   "execution_count": 13,
   "metadata": {},
   "outputs": [
    {
     "data": {
      "text/html": [
       "<div>\n",
       "<style scoped>\n",
       "    .dataframe tbody tr th:only-of-type {\n",
       "        vertical-align: middle;\n",
       "    }\n",
       "\n",
       "    .dataframe tbody tr th {\n",
       "        vertical-align: top;\n",
       "    }\n",
       "\n",
       "    .dataframe thead th {\n",
       "        text-align: right;\n",
       "    }\n",
       "</style>\n",
       "<table border=\"1\" class=\"dataframe\">\n",
       "  <thead>\n",
       "    <tr style=\"text-align: right;\">\n",
       "      <th></th>\n",
       "      <th>t1</th>\n",
       "      <th>t2</th>\n",
       "      <th>hum</th>\n",
       "      <th>wind_speed</th>\n",
       "      <th>is_holiday</th>\n",
       "      <th>is_weekend</th>\n",
       "      <th>year</th>\n",
       "      <th>month</th>\n",
       "      <th>day</th>\n",
       "      <th>hour</th>\n",
       "      <th>...</th>\n",
       "      <th>W-3.0</th>\n",
       "      <th>W-4.0</th>\n",
       "      <th>W-7.0</th>\n",
       "      <th>W-10.0</th>\n",
       "      <th>W-26.0</th>\n",
       "      <th>Season-0.0</th>\n",
       "      <th>Season-1.0</th>\n",
       "      <th>Season-2.0</th>\n",
       "      <th>Season-3.0</th>\n",
       "      <th>count</th>\n",
       "    </tr>\n",
       "  </thead>\n",
       "  <tbody>\n",
       "    <tr>\n",
       "      <th>0</th>\n",
       "      <td>-1.699331</td>\n",
       "      <td>-1.439290</td>\n",
       "      <td>1.444517</td>\n",
       "      <td>-1.255717</td>\n",
       "      <td>0.0</td>\n",
       "      <td>1.0</td>\n",
       "      <td>2015</td>\n",
       "      <td>1</td>\n",
       "      <td>4</td>\n",
       "      <td>0</td>\n",
       "      <td>...</td>\n",
       "      <td>1</td>\n",
       "      <td>0</td>\n",
       "      <td>0</td>\n",
       "      <td>0</td>\n",
       "      <td>0</td>\n",
       "      <td>0</td>\n",
       "      <td>0</td>\n",
       "      <td>0</td>\n",
       "      <td>1</td>\n",
       "      <td>182</td>\n",
       "    </tr>\n",
       "    <tr>\n",
       "      <th>1</th>\n",
       "      <td>-1.699331</td>\n",
       "      <td>-1.363703</td>\n",
       "      <td>1.444517</td>\n",
       "      <td>-1.382390</td>\n",
       "      <td>0.0</td>\n",
       "      <td>1.0</td>\n",
       "      <td>2015</td>\n",
       "      <td>1</td>\n",
       "      <td>4</td>\n",
       "      <td>1</td>\n",
       "      <td>...</td>\n",
       "      <td>0</td>\n",
       "      <td>0</td>\n",
       "      <td>0</td>\n",
       "      <td>0</td>\n",
       "      <td>0</td>\n",
       "      <td>0</td>\n",
       "      <td>0</td>\n",
       "      <td>0</td>\n",
       "      <td>1</td>\n",
       "      <td>138</td>\n",
       "    </tr>\n",
       "  </tbody>\n",
       "</table>\n",
       "<p>2 rows × 22 columns</p>\n",
       "</div>"
      ],
      "text/plain": [
       "         t1        t2       hum  wind_speed  is_holiday  is_weekend  year  \\\n",
       "0 -1.699331 -1.439290  1.444517   -1.255717         0.0         1.0  2015   \n",
       "1 -1.699331 -1.363703  1.444517   -1.382390         0.0         1.0  2015   \n",
       "\n",
       "   month  day  hour  ...  W-3.0  W-4.0  W-7.0  W-10.0  W-26.0  Season-0.0  \\\n",
       "0      1    4     0  ...      1      0      0       0       0           0   \n",
       "1      1    4     1  ...      0      0      0       0       0           0   \n",
       "\n",
       "   Season-1.0  Season-2.0  Season-3.0  count  \n",
       "0           0           0           1    182  \n",
       "1           0           0           1    138  \n",
       "\n",
       "[2 rows x 22 columns]"
      ]
     },
     "execution_count": 13,
     "metadata": {},
     "output_type": "execute_result"
    }
   ],
   "source": [
    "df.head(2)"
   ]
  },
  {
   "cell_type": "markdown",
   "metadata": {},
   "source": [
    "- Let's get our X and y vectors (the cnt column is the target):"
   ]
  },
  {
   "cell_type": "code",
   "execution_count": 14,
   "metadata": {},
   "outputs": [],
   "source": [
    "X = df.iloc[:, :21].values.reshape(-1, 21)                                               \n",
    "y = df.iloc[:, -1].values.reshape(-1, 1).ravel()"
   ]
  },
  {
   "cell_type": "markdown",
   "metadata": {},
   "source": [
    "Let's now split the data into training and test sets:"
   ]
  },
  {
   "cell_type": "code",
   "execution_count": 15,
   "metadata": {},
   "outputs": [],
   "source": [
    "X_train, X_test, Y_train, Y_test = train_test_split(X, y, test_size=0.3, random_state=0)"
   ]
  },
  {
   "cell_type": "code",
   "execution_count": 16,
   "metadata": {},
   "outputs": [
    {
     "name": "stdout",
     "output_type": "stream",
     "text": [
      "<class 'pandas.core.frame.DataFrame'>\n",
      "RangeIndex: 17414 entries, 0 to 17413\n",
      "Data columns (total 22 columns):\n",
      " #   Column      Non-Null Count  Dtype  \n",
      "---  ------      --------------  -----  \n",
      " 0   t1          17414 non-null  float64\n",
      " 1   t2          17414 non-null  float64\n",
      " 2   hum         17414 non-null  float64\n",
      " 3   wind_speed  17414 non-null  float64\n",
      " 4   is_holiday  17414 non-null  float64\n",
      " 5   is_weekend  17414 non-null  float64\n",
      " 6   year        17414 non-null  int64  \n",
      " 7   month       17414 non-null  int64  \n",
      " 8   day         17414 non-null  int64  \n",
      " 9   hour        17414 non-null  int64  \n",
      " 10  W-1.0       17414 non-null  uint8  \n",
      " 11  W-2.0       17414 non-null  uint8  \n",
      " 12  W-3.0       17414 non-null  uint8  \n",
      " 13  W-4.0       17414 non-null  uint8  \n",
      " 14  W-7.0       17414 non-null  uint8  \n",
      " 15  W-10.0      17414 non-null  uint8  \n",
      " 16  W-26.0      17414 non-null  uint8  \n",
      " 17  Season-0.0  17414 non-null  uint8  \n",
      " 18  Season-1.0  17414 non-null  uint8  \n",
      " 19  Season-2.0  17414 non-null  uint8  \n",
      " 20  Season-3.0  17414 non-null  uint8  \n",
      " 21  count       17414 non-null  int64  \n",
      "dtypes: float64(6), int64(5), uint8(11)\n",
      "memory usage: 1.6 MB\n"
     ]
    }
   ],
   "source": [
    "df.info()"
   ]
  },
  {
   "cell_type": "markdown",
   "metadata": {},
   "source": [
    "Let's check the dimensions:"
   ]
  },
  {
   "cell_type": "code",
   "execution_count": 17,
   "metadata": {},
   "outputs": [
    {
     "name": "stdout",
     "output_type": "stream",
     "text": [
      " train_size=12189 \n",
      " test_size=5225 \n",
      " n_columns=21\n"
     ]
    }
   ],
   "source": [
    "train_size, n_columns = X_train.shape\n",
    "\n",
    "test_size = X_test.shape[0]\n",
    "\n",
    "assert(X_test.shape[1]==n_columns)\n",
    "\n",
    "n_digits = len(set(Y_train).union(set(list(Y_test))))\n",
    "\n",
    "print(\" train_size=%d \\n test_size=%d \\n n_columns=%d\" % (train_size, test_size, n_columns))"
   ]
  },
  {
   "cell_type": "markdown",
   "metadata": {},
   "source": [
    "### Create and Train Models"
   ]
  },
  {
   "cell_type": "markdown",
   "metadata": {},
   "source": [
    "I will create a few models and pick the best based on the metric \"mean_squared_error\"\n",
    "- Let's start with Linear Regression and its variants"
   ]
  },
  {
   "cell_type": "code",
   "execution_count": 18,
   "metadata": {},
   "outputs": [
    {
     "name": "stdout",
     "output_type": "stream",
     "text": [
      " MSE_Linear_Regression: 789266 \n",
      " RMSE_Linear_Regression: 888 \n"
     ]
    }
   ],
   "source": [
    "linear_regressor = LinearRegression()\n",
    "\n",
    "linear_regressor.fit(X_train, Y_train)\n",
    "\n",
    "MSE_LR = mean_squared_error(Y_test, linear_regressor.predict(X_test))\n",
    "RMSE_LR = np.sqrt(mean_squared_error(Y_test, linear_regressor.predict(X_test)))\n",
    "\n",
    "print(\" MSE_Linear_Regression: %d \\n RMSE_Linear_Regression: %d \" % (MSE_LR, RMSE_LR) )"
   ]
  },
  {
   "cell_type": "code",
   "execution_count": 19,
   "metadata": {},
   "outputs": [
    {
     "name": "stdout",
     "output_type": "stream",
     "text": [
      " MSE_Lasso: 790027 \n",
      " RMSE_Lasso: 888 \n"
     ]
    }
   ],
   "source": [
    "lasso_regressor = LassoCV(cv=5, random_state=42).fit(X_train, Y_train)\n",
    "\n",
    "MSE_Lasso = mean_squared_error(Y_test, lasso_regressor.predict(X_test))\n",
    "RMSE_Lasso = np.sqrt(mean_squared_error(Y_test, lasso_regressor.predict(X_test)))\n",
    "\n",
    "print(\" MSE_Lasso: %d \\n RMSE_Lasso: %d \" % (MSE_Lasso, RMSE_Lasso) )"
   ]
  },
  {
   "cell_type": "code",
   "execution_count": 20,
   "metadata": {},
   "outputs": [
    {
     "name": "stdout",
     "output_type": "stream",
     "text": [
      " MSE_Ridge: 789261 \n",
      " RMSE_Ridge: 888 \n"
     ]
    }
   ],
   "source": [
    "ridge_regressor = RidgeCV(cv=5).fit(X_train, Y_train)\n",
    "\n",
    "MSE_Ridge = mean_squared_error(Y_test, ridge_regressor.predict(X_test))\n",
    "RMSE_Ridge = np.sqrt(mean_squared_error(Y_test, ridge_regressor.predict(X_test)))\n",
    "\n",
    "print(\" MSE_Ridge: %d \\n RMSE_Ridge: %d \" % (MSE_Ridge, RMSE_Ridge) )"
   ]
  },
  {
   "cell_type": "code",
   "execution_count": 21,
   "metadata": {},
   "outputs": [
    {
     "name": "stdout",
     "output_type": "stream",
     "text": [
      " MSE_elastic_net: 898258 \n",
      " RMSE_elastic_net: 947 \n"
     ]
    }
   ],
   "source": [
    "elastic_net_regressor = ElasticNetCV(cv=5, random_state=42).fit(X_train, Y_train)\n",
    "\n",
    "MSE_elastic_net = mean_squared_error(Y_test, elastic_net_regressor.predict(X_test))\n",
    "RMSE_elastic_net = np.sqrt(mean_squared_error(Y_test, elastic_net_regressor.predict(X_test)))\n",
    "\n",
    "print(\" MSE_elastic_net: %d \\n RMSE_elastic_net: %d \" % (MSE_elastic_net, RMSE_elastic_net) )"
   ]
  },
  {
   "cell_type": "markdown",
   "metadata": {},
   "source": [
    "- Among the linear models simple **Linear Regression** is the best but it is also very close to the **Ridge Regression.** "
   ]
  },
  {
   "cell_type": "markdown",
   "metadata": {},
   "source": [
    "Let's now try **KNeighborsRegressor** using **GridSearchCV** to find the best hyperparameters"
   ]
  },
  {
   "cell_type": "code",
   "execution_count": 22,
   "metadata": {},
   "outputs": [
    {
     "name": "stdout",
     "output_type": "stream",
     "text": [
      " MSE_kNN: 233813 \n",
      " RMSE_kNN: 483 \n"
     ]
    }
   ],
   "source": [
    "tuned_parameters = [{'weights': ['uniform', 'distance'],\n",
    "                     'n_neighbors': range(2,100)}]                                                                                             \n",
    "\n",
    "knn_regressor = GridSearchCV(estimator=KNeighborsRegressor(), param_grid=tuned_parameters, cv=5, \n",
    "                             scoring='neg_mean_squared_error')\n",
    "\n",
    "knn_regressor.fit(X_train, Y_train)\n",
    "\n",
    "MSE_kNN = mean_squared_error(Y_test, knn_regressor.predict(X_test))\n",
    "RMSE_kNN = np.sqrt(mean_squared_error(Y_test, knn_regressor.predict(X_test)))\n",
    "\n",
    "print(\" MSE_kNN: %d \\n RMSE_kNN: %d \" % (MSE_kNN, RMSE_kNN) )\n"
   ]
  },
  {
   "cell_type": "markdown",
   "metadata": {},
   "source": [
    "Now, let's try with the **RandomForestRegressor**"
   ]
  },
  {
   "cell_type": "code",
   "execution_count": 23,
   "metadata": {},
   "outputs": [
    {
     "name": "stdout",
     "output_type": "stream",
     "text": [
      " MSE_RF: 83115 \n",
      " RMSE_RF: 288 \n"
     ]
    }
   ],
   "source": [
    "tuned_parameters = [{'max_depth': range(2,10),\n",
    "                     'n_estimators': range(10,12)}]\n",
    "\n",
    "rf_regressor = GridSearchCV(RandomForestRegressor(), tuned_parameters, cv=5, scoring='neg_mean_squared_error')\n",
    "\n",
    "rf_regressor.fit(X_train, Y_train)\n",
    "\n",
    "MSE_RF = mean_squared_error(Y_test, rf_regressor.predict(X_test))\n",
    "RMSE_RF = np.sqrt(mean_squared_error(Y_test, rf_regressor.predict(X_test)))\n",
    "\n",
    "print(\" MSE_RF: %d \\n RMSE_RF: %d \" % (MSE_RF, RMSE_RF) )"
   ]
  },
  {
   "cell_type": "markdown",
   "metadata": {},
   "source": [
    "Now, let's try with the **XGBoostRegressor**"
   ]
  },
  {
   "cell_type": "code",
   "execution_count": 24,
   "metadata": {},
   "outputs": [
    {
     "name": "stdout",
     "output_type": "stream",
     "text": [
      " MSE_RF: 39525 \n",
      " RMSE_RF: 198 \n"
     ]
    }
   ],
   "source": [
    "tuned_parameters = [{'max_depth': range(9,12), \n",
    "                     'min_child_weight':range(5,8)}]\n",
    "\n",
    "xgb_regressor = GridSearchCV(XGBRegressor(), tuned_parameters, cv=5, scoring='neg_mean_squared_error')\n",
    "\n",
    "xgb_regressor.fit(X_train, Y_train)\n",
    "\n",
    "MSE_xgb = mean_squared_error(Y_test, xgb_regressor.predict(X_test))\n",
    "RMSE_xgb = np.sqrt(MSE_xgb)\n",
    "\n",
    "print(\" MSE_RF: %d \\n RMSE_RF: %d \" % (MSE_xgb, RMSE_xgb) )"
   ]
  },
  {
   "cell_type": "markdown",
   "metadata": {},
   "source": [
    "Now, let's try with the **SupportVectorClassifierRegressor**"
   ]
  },
  {
   "cell_type": "code",
   "execution_count": 24,
   "metadata": {},
   "outputs": [
    {
     "name": "stdout",
     "output_type": "stream",
     "text": [
      " MSE_SVR: 183141 \n",
      " RMSE_SVR: 427 \n"
     ]
    }
   ],
   "source": [
    "from sklearn.svm import SVR\n",
    "from sklearn.model_selection import GridSearchCV\n",
    "\n",
    "\n",
    "svr = GridSearchCV(SVR(kernel='rbf', gamma=0.1), \n",
    "      param_grid={\"C\": [1e0, 1e1, 1e2, 1e3], \"gamma\": np.logspace(-2, 2, 5)}, cv=5, scoring='neg_mean_squared_error')\n",
    "\n",
    "svr.fit(X_train, Y_train)\n",
    "\n",
    "MSE_SVR = mean_squared_error(Y_test, svr.predict(X_test))\n",
    "RMSE_SVR = np.sqrt(mean_squared_error(Y_test, svr.predict(X_test)))\n",
    "\n",
    "print(\" MSE_SVR: %d \\n RMSE_SVR: %d \" % (MSE_SVR, RMSE_SVR) )"
   ]
  },
  {
   "cell_type": "code",
   "execution_count": 25,
   "metadata": {},
   "outputs": [
    {
     "data": {
      "text/html": [
       "<div>\n",
       "<style scoped>\n",
       "    .dataframe tbody tr th:only-of-type {\n",
       "        vertical-align: middle;\n",
       "    }\n",
       "\n",
       "    .dataframe tbody tr th {\n",
       "        vertical-align: top;\n",
       "    }\n",
       "\n",
       "    .dataframe thead th {\n",
       "        text-align: right;\n",
       "    }\n",
       "</style>\n",
       "<table border=\"1\" class=\"dataframe\">\n",
       "  <thead>\n",
       "    <tr style=\"text-align: right;\">\n",
       "      <th></th>\n",
       "      <th>Model</th>\n",
       "      <th>MSE</th>\n",
       "      <th>RMSE</th>\n",
       "    </tr>\n",
       "  </thead>\n",
       "  <tbody>\n",
       "    <tr>\n",
       "      <th>0</th>\n",
       "      <td>Linear Regression</td>\n",
       "      <td>789266.595151</td>\n",
       "      <td>888.406773</td>\n",
       "    </tr>\n",
       "    <tr>\n",
       "      <th>1</th>\n",
       "      <td>Lasso Regression</td>\n",
       "      <td>790027.816258</td>\n",
       "      <td>888.835089</td>\n",
       "    </tr>\n",
       "    <tr>\n",
       "      <th>2</th>\n",
       "      <td>Ridge Regression</td>\n",
       "      <td>789261.712145</td>\n",
       "      <td>888.404025</td>\n",
       "    </tr>\n",
       "    <tr>\n",
       "      <th>3</th>\n",
       "      <td>ElasticNet Regression</td>\n",
       "      <td>898258.951731</td>\n",
       "      <td>947.765241</td>\n",
       "    </tr>\n",
       "    <tr>\n",
       "      <th>4</th>\n",
       "      <td>KNeighbours Regression</td>\n",
       "      <td>233813.493960</td>\n",
       "      <td>483.542650</td>\n",
       "    </tr>\n",
       "    <tr>\n",
       "      <th>5</th>\n",
       "      <td>Random Forest Regression</td>\n",
       "      <td>83115.971594</td>\n",
       "      <td>288.298407</td>\n",
       "    </tr>\n",
       "    <tr>\n",
       "      <th>6</th>\n",
       "      <td>XGBoost Regression</td>\n",
       "      <td>39525.701924</td>\n",
       "      <td>198.810719</td>\n",
       "    </tr>\n",
       "  </tbody>\n",
       "</table>\n",
       "</div>"
      ],
      "text/plain": [
       "                      Model            MSE        RMSE\n",
       "0         Linear Regression  789266.595151  888.406773\n",
       "1          Lasso Regression  790027.816258  888.835089\n",
       "2          Ridge Regression  789261.712145  888.404025\n",
       "3     ElasticNet Regression  898258.951731  947.765241\n",
       "4    KNeighbours Regression  233813.493960  483.542650\n",
       "5  Random Forest Regression   83115.971594  288.298407\n",
       "6        XGBoost Regression   39525.701924  198.810719"
      ]
     },
     "execution_count": 25,
     "metadata": {},
     "output_type": "execute_result"
    }
   ],
   "source": [
    "models_df = pd.DataFrame(columns = ['Model', 'MSE', 'RMSE'])\n",
    "\n",
    "data_LR = [{'Model':'Linear Regression', 'MSE':MSE_LR, 'RMSE':RMSE_LR}]\n",
    "models_df = models_df.append(data_LR , ignore_index=True)\n",
    "\n",
    "data_lasso = [{'Model':'Lasso Regression', 'MSE':MSE_Lasso, 'RMSE':RMSE_Lasso}]\n",
    "models_df = models_df.append(data_lasso, ignore_index=True)\n",
    "\n",
    "data_ridge = [{'Model':'Ridge Regression', 'MSE':MSE_Ridge, 'RMSE':RMSE_Ridge}]\n",
    "models_df = models_df.append(data_ridge, ignore_index=True)\n",
    "\n",
    "data_elastic_net = [{'Model':'ElasticNet Regression', 'MSE':MSE_elastic_net, 'RMSE':RMSE_elastic_net}]\n",
    "models_df = models_df.append(data_elastic_net, ignore_index=True)\n",
    "\n",
    "data_knn = [{'Model':'KNeighbours Regression', 'MSE':MSE_kNN, 'RMSE':RMSE_kNN}]\n",
    "models_df = models_df.append(data_knn, ignore_index=True)\n",
    "\n",
    "data_RF = [{'Model':'Random Forest Regression', 'MSE':MSE_RF, 'RMSE':RMSE_RF}]\n",
    "models_df = models_df.append(data_RF, ignore_index=True)\n",
    "\n",
    "data_xgb = [{'Model':'XGBoost Regression', 'MSE':MSE_xgb, 'RMSE':RMSE_xgb}]\n",
    "models_df = models_df.append(data_xgb, ignore_index=True)\n",
    "\n",
    "# data_SVR = [{'Model':'Support Vector Regression', 'MSE':MSE_SVR, 'RMSE':RMSE_SVR}]\n",
    "# models_df = models_df.append(data_SVR, ignore_index=True)\n",
    "\n",
    "models_df"
   ]
  },
  {
   "cell_type": "markdown",
   "metadata": {},
   "source": [
    "It looks like XGBoost Regressor results are by far the best."
   ]
  },
  {
   "cell_type": "code",
   "execution_count": 26,
   "metadata": {},
   "outputs": [],
   "source": [
    "pickle.dump(xgb_regressor, open(model_filename+\".\"+model_extension,'wb'))"
   ]
  },
  {
   "cell_type": "code",
   "execution_count": null,
   "metadata": {},
   "outputs": [],
   "source": []
  }
 ],
 "metadata": {
  "kernelspec": {
   "display_name": "Python 3",
   "language": "python",
   "name": "python3"
  },
  "language_info": {
   "codemirror_mode": {
    "name": "ipython",
    "version": 3
   },
   "file_extension": ".py",
   "mimetype": "text/x-python",
   "name": "python",
   "nbconvert_exporter": "python",
   "pygments_lexer": "ipython3",
   "version": "3.8.5"
  }
 },
 "nbformat": 4,
 "nbformat_minor": 4
}
